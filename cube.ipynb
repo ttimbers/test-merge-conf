{
 "cells": [
  {
   "cell_type": "markdown",
   "id": "abe54e3d",
   "metadata": {},
   "source": [
    "## Calculate a cube of a number\n",
    "\n",
    "Function named `cube` that calculates a cube of a number:"
   ]
  },
  {
   "cell_type": "code",
   "execution_count": 1,
   "id": "c7a04d18",
   "metadata": {},
   "outputs": [],
   "source": [
    "cube <- function(x) {\n",
    " x * x * x\n",
    "}"
   ]
  },
  {
   "cell_type": "code",
   "execution_count": 2,
   "id": "70758a4a",
   "metadata": {},
   "outputs": [
    {
     "data": {
      "text/html": [
       "16"
      ],
      "text/latex": [
       "16"
      ],
      "text/markdown": [
       "16"
      ],
      "text/plain": [
       "[1] 16"
      ]
     },
     "metadata": {},
     "output_type": "display_data"
    }
   ],
   "source": [
    "cube(2)"
   ]
  }
 ],
 "metadata": {
  "kernelspec": {
   "display_name": "R",
   "language": "R",
   "name": "ir"
  },
  "language_info": {
   "codemirror_mode": "r",
   "file_extension": ".r",
   "mimetype": "text/x-r-source",
   "name": "R",
   "pygments_lexer": "r",
   "version": "4.1.2"
  }
 },
 "nbformat": 4,
 "nbformat_minor": 5
}
